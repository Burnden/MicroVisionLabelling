{
 "cells": [
  {
   "cell_type": "code",
   "execution_count": 1,
   "metadata": {},
   "outputs": [],
   "source": [
    "import json\n",
    "import pickle\n",
    "from matplotlib import pyplot as plt\n",
    "%matplotlib inline\n",
    "import numpy as np\n",
    "from pycocotools import mask\n",
    "import itertools\n",
    "import scipy.io\n",
    "import skimage.draw\n",
    "import skimage.measure"
   ]
  },
  {
   "cell_type": "code",
   "execution_count": 3,
   "metadata": {},
   "outputs": [],
   "source": [
    "def sort_by_mask_area(masks):\n",
    "    return sorted(masks, reverse=True, key=mask.area)\n",
    "\n",
    "def overlapping_percentage(mask1, mask2):\n",
    "    areas = min(mask.area([mask1, mask2]))\n",
    "    if areas == 0:\n",
    "        return 0\n",
    "    percentage = mask.area(mask.merge([mask1, mask2], intersect=True))/areas\n",
    "    return percentage \n",
    "    \n",
    "# only assess the top 'process_limit' number of largest masks.\n",
    "def remove_overlapping_small_objects(masks, threshold=0.9, process_limit = 1000):\n",
    "    if len(masks) == 0:\n",
    "        return []\n",
    "    deleted_index = []\n",
    "    sorted_masks = sort_by_mask_area(masks)\n",
    "    for i, current_mask in enumerate(sorted_masks):\n",
    "        if i in deleted_index:\n",
    "            continue\n",
    "        if i > process_limit:\n",
    "            break\n",
    "        for j in range(i+1, len(sorted_masks)):\n",
    "            if j in deleted_index:\n",
    "                continue\n",
    "            test_mask = sorted_masks[j]\n",
    "            overlapping = overlapping_percentage(current_mask, test_mask)\n",
    "            if overlapping > threshold:\n",
    "                print(overlapping)\n",
    "                deleted_index.append(j)\n",
    "    return [m for i, m in enumerate(sorted_masks) if i not in deleted_index]\n",
    "\n",
    "def remove_multi_part_masks(masks, remove_all = True):\n",
    "    ret = []\n",
    "    if not len(masks):\n",
    "        return ret\n",
    "    \n",
    "    decoded_masks = mask.decode(masks)\n",
    "    for i in range(decoded_masks.shape[-1]):\n",
    "        decoded_mask = decoded_masks[:, :, i]\n",
    "        _, c, _ = cv2.findContours(decoded_mask.copy(), cv2.RETR_EXTERNAL, cv2.CHAIN_APPROX_NONE)\n",
    "        if len(c) > 1 and remove_all:\n",
    "            continue\n",
    "        elif len(c) > 1:\n",
    "            sorted_contours = sorted(c, reverse=True, key=cv2.contourArea)\n",
    "            canvas = np.zeros(decoded_masks.shape)\n",
    "            reshaped = c[0].reshape(-1,2)\n",
    "            x = reshaped[:,0]\n",
    "            y = reshaped[:,1]\n",
    "            rr,cc = skimage.draw.polygon(y, x)\n",
    "            canvas[rr, cc] = 1\n",
    "            # print (reshaped)\n",
    "            new_mask = mask.encode(np.asfortranarray(canvas.astype(np.uint8)))[0]\n",
    "            try:\n",
    "                new_mask['is'] = masks[i]['is']\n",
    "            except Exception as e:\n",
    "                print (e)\n",
    "            ret.append(new_mask)\n",
    "        else:\n",
    "            ret.append(masks[i])\n",
    "    return ret\n",
    "def break_up_masks(masks):\n",
    "    ret = []\n",
    "    if not len(masks):\n",
    "        return ret\n",
    "    \n",
    "    decoded_masks = mask.decode(masks)\n",
    "    for i in range(decoded_masks.shape[-1]):\n",
    "        decoded_mask = decoded_masks[:, :, i]\n",
    "        _, c, _ = cv2.findContours(decoded_mask.copy(), cv2.RETR_EXTERNAL, cv2.CHAIN_APPROX_NONE)\n",
    "        if len(c) == 1:\n",
    "            ret.append(masks[i])\n",
    "        else:\n",
    "            for contour in c:\n",
    "                canvas = np.zeros(decoded_masks.shape)\n",
    "                reshaped = contour.reshape(-1,2)\n",
    "                x = reshaped[:,0]\n",
    "                y = reshaped[:,1]\n",
    "                rr,cc = skimage.draw.polygon(y, x)\n",
    "                canvas[rr, cc] = 1\n",
    "                new_mask = mask.encode(np.asfortranarray(canvas.astype(np.uint8)))[0]\n",
    "                try:\n",
    "                    new_mask['is'] = masks[i]['is']\n",
    "                except Exception as e:\n",
    "                    print (e)\n",
    "                ret.append(new_mask)\n",
    "    return ret\n",
    "    \n",
    "def remove_overlapping_cross_classes(multiclass_masks, threshold = 0.9, process_limit = 1000, break_parts = False, remove_multi_part = False, remove_all = True):\n",
    "    \n",
    "    #assign attribute for classification\n",
    "    for i, masks_of_one_class in enumerate(multiclass_masks):\n",
    "        for mask in masks_of_one_class:\n",
    "            mask['is'] = i\n",
    "        \n",
    "    # flatten all masks in one array\n",
    "    combined_masks = []\n",
    "    [combined_masks.extend(masks_of_one_class) for masks_of_one_class in multiclass_masks]\n",
    "    if break_parts:\n",
    "        combined_masks = break_up_masks(combined_masks)\n",
    "    processed_masks = remove_overlapping_small_objects(combined_masks, threshold, process_limit)\n",
    "    if remove_multi_part:\n",
    "        processed_masks = remove_multi_part_masks(processed_masks, remove_all)\n",
    "\n",
    "    ret =  [];\n",
    "    for i in range(len(multiclass_masks)):\n",
    "        ret.append([mask for mask in processed_masks if mask['is'] == i])\n",
    "    return ret"
   ]
  },
  {
   "cell_type": "code",
   "execution_count": null,
   "metadata": {},
   "outputs": [],
   "source": [
    "# generate filtered mask;\n",
    "counter = 0\n",
    "with open('infer_result' ,'rb') as input_file, open('infer_result_remove_overlapping', 'wb') as output_file:\n",
    "    try:\n",
    "        while True:\n",
    "            obj = pickle.load(input_file)\n",
    "            m = json.loads(obj['m'])\n",
    "            segms = m['cls_segms']\n",
    "            if not segms:\n",
    "                # just write it back as is\n",
    "                pickle.dump(obj, output_file)\n",
    "                continue\n",
    "            c_alpha = len(segms[1])\n",
    "            c_beta = len(segms[2])\n",
    "            m['cls_segms'] = processed = remove_overlapping_cross_classes(segms)\n",
    "            reduced_alpha = c_alpha - len(processed[1])\n",
    "            reduced_beta =  c_beta - len(processed[2])\n",
    "            if reduced_alpha or reduced_beta:\n",
    "                print(\"Alpha count reduced {}, beta count reduced {}\".format(reduced_alpha , reduced_beta))\n",
    "            \n",
    "            if counter % 100 == 0:\n",
    "                print(\"processed {} objects\".format(counter))\n",
    "            obj['m'] = json.dumps(m)\n",
    "            pickle.dump(obj, output_file)\n",
    "            counter +=1\n",
    "    except Exception as e:\n",
    "        raise e"
   ]
  },
  {
   "cell_type": "code",
   "execution_count": 30,
   "metadata": {},
   "outputs": [
    {
     "name": "stdout",
     "output_type": "stream",
     "text": [
      "1.0\n",
      "0.8970718722271517\n",
      "0.8980988593155893\n",
      "0.9552772808586762\n",
      "0.7150214592274678\n",
      "0.9032258064516129\n",
      "Alpha count reduced 0, beta count reduced -9\n"
     ]
    }
   ],
   "source": [
    "import pickle\n",
    "import os\n",
    "import json\n",
    "from pycocotools import mask\n",
    "import skimage.io as io\n",
    "import cv2\n",
    "import skimage.color as color\n",
    "import skimage.measure as measure\n",
    "from matplotlib import pyplot as plt\n",
    "import numpy as np\n",
    "import matplotlib\n",
    "%matplotlib inline\n",
    "\n",
    "matplotlib.rcParams['figure.figsize'] = [15, 15]\n",
    "\n",
    "\n",
    "\n",
    "# check masks\n",
    "counter = 0\n",
    "with open('infer_result' ,'rb') as input_file:\n",
    "    #[pickle.load(input_file) for _ in range(33455)]\n",
    "    while True:\n",
    "        obj = pickle.load(input_file)\n",
    "        f = obj['f']\n",
    "        if f == '1526509546842.png':\n",
    "            break\n",
    "    try:\n",
    "        while True:\n",
    "            m = json.loads(obj['m'])\n",
    "            segms = m['cls_segms']\n",
    "            if not segms:\n",
    "                # just write it back as is\n",
    "                continue\n",
    "            c_alpha = len(segms[1])\n",
    "            c_beta = len(segms[2])\n",
    "            m['cls_segms'] = processed = remove_overlapping_cross_classes(segms, break_parts=True, threshold=0.7)\n",
    "            reduced_alpha = c_alpha - len(processed[1])\n",
    "            reduced_beta =  c_beta - len(processed[2])\n",
    "            if reduced_alpha or reduced_beta:\n",
    "                print(\"Alpha count reduced {}, beta count reduced {}\".format(reduced_alpha , reduced_beta))\n",
    "            \n",
    "            original_d_a = mask.decode(segms[1])\n",
    "            processed_d_a = mask.decode(processed[1])\n",
    "            original_d_b = mask.decode(segms[2])\n",
    "            processed_d_b = mask.decode(processed[2])\n",
    "            #print(len(original_d_a))\n",
    "            I = np.zeros((600,800,3)).astype(np.uint8)\n",
    "            alpha=0.2\n",
    "            \n",
    "            cur = original_d_a\n",
    "            for i in range(cur.shape[-1]):\n",
    "                colored_mask = color.grey2rgb(cur[..., i]) * [255,0,0]\n",
    "                I = cv2.addWeighted(I, 1, colored_mask.astype(np.uint8), 1-alpha, 0)\n",
    "            \n",
    "            cur = original_d_b\n",
    "            for i in range(cur.shape[-1]):\n",
    "                colored_mask = color.grey2rgb(cur[..., i]) * [0,255,0]\n",
    "                I = cv2.addWeighted(I, 1, colored_mask.astype(np.uint8), 1-alpha, 0)\n",
    "            \n",
    "            I_origin = I.copy()\n",
    "            cur = processed_d_a\n",
    "            for i in range(cur.shape[-1]):\n",
    "                #colored_mask = color.grey2rgb(cur[..., i]) * [255,255,255]\n",
    "                #I = cv2.addWeighted(I, 1, colored_mask.astype(np.uint8), 1-alpha, 0)\n",
    "                _, contours, h = cv2.findContours(cur[..., i].copy(), cv2.RETR_LIST, cv2.CHAIN_APPROX_SIMPLE)\n",
    "                I = cv2.drawContours(I, contours, -1, (0,0,255), 2)\n",
    "            \n",
    "            cur = processed_d_b\n",
    "            for i in range(cur.shape[-1]):\n",
    "                #colored_mask = color.grey2rgb(cur[..., i]) * [255,255,255]\n",
    "                #I = cv2.addWeighted(I, 1, colored_mask.astype(np.uint8), 1-alpha, 0)\n",
    "                _, contours, h = cv2.findContours(cur[..., i].copy(), cv2.RETR_LIST, cv2.CHAIN_APPROX_SIMPLE)\n",
    "                I = cv2.drawContours(I, contours, -1, (0,0,255), 2)\n",
    "                \n",
    "            \n",
    "            break\n",
    "            \n",
    "            \n",
    "    except Exception as e:\n",
    "        raise e"
   ]
  },
  {
   "cell_type": "code",
   "execution_count": 26,
   "metadata": {},
   "outputs": [
    {
     "data": {
      "text/plain": [
       "'1526498470170.png'"
      ]
     },
     "execution_count": 26,
     "metadata": {},
     "output_type": "execute_result"
    }
   ],
   "source": [
    "f"
   ]
  },
  {
   "cell_type": "code",
   "execution_count": 33,
   "metadata": {},
   "outputs": [],
   "source": [
    "skimage.io.imsave(f, I)"
   ]
  },
  {
   "cell_type": "code",
   "execution_count": 32,
   "metadata": {},
   "outputs": [
    {
     "data": {
      "text/plain": [
       "<matplotlib.image.AxesImage at 0x262819c7278>"
      ]
     },
     "execution_count": 32,
     "metadata": {},
     "output_type": "execute_result"
    },
    {
     "data": {
      "image/png": "[encoded data removed]",
      "text/plain": [
       "<Figure size 1080x1080 with 1 Axes>"
      ]
     },
     "metadata": {},
     "output_type": "display_data"
    }
   ],
   "source": [
    "plt.imshow(I)"
   ]
  },
  {
   "cell_type": "code",
   "execution_count": 16,
   "metadata": {},
   "outputs": [
    {
     "data": {
      "text/plain": [
       "<matplotlib.image.AxesImage at 0x26280066dd8>"
      ]
     },
     "execution_count": 16,
     "metadata": {},
     "output_type": "execute_result"
    },
    {
     "data": {
      "image/png": "[encoded data removed]",
      "text/plain": [
       "<Figure size 1080x1080 with 1 Axes>"
      ]
     },
     "metadata": {},
     "output_type": "display_data"
    }
   ],
   "source": [
    "plt.imshow(I_origin)"
   ]
  },
  {
   "cell_type": "code",
   "execution_count": 11,
   "metadata": {},
   "outputs": [
    {
     "ename": "EOFError",
     "evalue": "Ran out of input",
     "output_type": "error",
     "traceback": [
      "\u001b[1;31m---------------------------------------------------------------------------\u001b[0m",
      "\u001b[1;31mEOFError\u001b[0m                                  Traceback (most recent call last)",
      "\u001b[1;32m<ipython-input-11-bbf98fd42036>\u001b[0m in \u001b[0;36m<module>\u001b[1;34m()\u001b[0m\n\u001b[0;32m     31\u001b[0m             \u001b[0mtime\u001b[0m\u001b[1;33m.\u001b[0m\u001b[0mappend\u001b[0m\u001b[1;33m(\u001b[0m\u001b[0mnp\u001b[0m\u001b[1;33m.\u001b[0m\u001b[0maverage\u001b[0m\u001b[1;33m(\u001b[0m\u001b[0mtime_list\u001b[0m\u001b[1;33m)\u001b[0m\u001b[1;33m)\u001b[0m\u001b[1;33m\u001b[0m\u001b[0m\n\u001b[0;32m     32\u001b[0m     \u001b[1;32mexcept\u001b[0m \u001b[0mException\u001b[0m \u001b[1;32mas\u001b[0m \u001b[0me\u001b[0m\u001b[1;33m:\u001b[0m\u001b[1;33m\u001b[0m\u001b[0m\n\u001b[1;32m---> 33\u001b[1;33m         \u001b[1;32mraise\u001b[0m \u001b[0me\u001b[0m\u001b[1;33m\u001b[0m\u001b[0m\n\u001b[0m",
      "\u001b[1;32m<ipython-input-11-bbf98fd42036>\u001b[0m in \u001b[0;36m<module>\u001b[1;34m()\u001b[0m\n\u001b[0;32m     13\u001b[0m             \u001b[0mtime_list\u001b[0m \u001b[1;33m=\u001b[0m \u001b[1;33m[\u001b[0m\u001b[1;33m]\u001b[0m\u001b[1;33m\u001b[0m\u001b[0m\n\u001b[0;32m     14\u001b[0m             \u001b[1;32mwhile\u001b[0m \u001b[1;32mTrue\u001b[0m\u001b[1;33m:\u001b[0m\u001b[1;33m\u001b[0m\u001b[0m\n\u001b[1;32m---> 15\u001b[1;33m                 \u001b[0mobj\u001b[0m \u001b[1;33m=\u001b[0m \u001b[0mpickle\u001b[0m\u001b[1;33m.\u001b[0m\u001b[0mload\u001b[0m\u001b[1;33m(\u001b[0m\u001b[0minput_file\u001b[0m\u001b[1;33m)\u001b[0m\u001b[1;33m\u001b[0m\u001b[0m\n\u001b[0m\u001b[0;32m     16\u001b[0m                 \u001b[0mt\u001b[0m \u001b[1;33m=\u001b[0m \u001b[0mobj\u001b[0m\u001b[1;33m[\u001b[0m\u001b[1;34m'timestamp'\u001b[0m\u001b[1;33m]\u001b[0m\u001b[1;33m\u001b[0m\u001b[0m\n\u001b[0;32m     17\u001b[0m                 \u001b[0mtime_list\u001b[0m\u001b[1;33m.\u001b[0m\u001b[0mappend\u001b[0m\u001b[1;33m(\u001b[0m\u001b[0mt\u001b[0m\u001b[1;33m)\u001b[0m\u001b[1;33m\u001b[0m\u001b[0m\n",
      "\u001b[1;31mEOFError\u001b[0m: Ran out of input"
     ]
    }
   ],
   "source": [
    "# count change:`\n",
    "window_size = 2*60 # 1min\n",
    "\n",
    "alpha_count = []\n",
    "beta_count = []\n",
    "time = []\n",
    "with open(\"infer_result_sorted\" ,'rb') as input_file:\n",
    "    try:\n",
    "        while True:\n",
    "            alpha_num = 0\n",
    "            beta_num = 0\n",
    "            counter = 0\n",
    "            time_list = []\n",
    "            while True:\n",
    "                obj = pickle.load(input_file)\n",
    "                t = obj['timestamp']\n",
    "                time_list.append(t)\n",
    "                #m = json.loads(obj['m'])['cls_segms']\n",
    "                m = obj['m']['cls_segms']\n",
    "                if not m:\n",
    "                    continue\n",
    "                m_alpha = len(m[1])\n",
    "                m_beta = len(m[2])\n",
    "                alpha_num += m_alpha\n",
    "                beta_num += m_beta\n",
    "                counter += 1\n",
    "                if time_list[-1] - time_list[0] >= window_size * 1000:\n",
    "                    break\n",
    "            alpha_count.append(alpha_num/counter)\n",
    "            beta_count.append(beta_num/counter)\n",
    "            time.append(np.average(time_list))\n",
    "    except Exception as e:\n",
    "        raise e"
   ]
  },
  {
   "cell_type": "code",
   "execution_count": 13,
   "metadata": {},
   "outputs": [
    {
     "data": {
      "text/plain": [
       "[<matplotlib.lines.Line2D at 0x1abe503f6a0>]"
      ]
     },
     "execution_count": 13,
     "metadata": {},
     "output_type": "execute_result"
    },
    {
     "data": {
      "image/png": "[encoded data removed]",
      "text/plain": [
       "<Figure size 432x288 with 1 Axes>"
      ]
     },
     "metadata": {},
     "output_type": "display_data"
    }
   ],
   "source": [
    "plt.plot(alpha_count)"
   ]
  },
  {
   "cell_type": "code",
   "execution_count": 14,
   "metadata": {},
   "outputs": [],
   "source": [
    "scipy.io.savemat(\"counts\", {\"alpha_count\": np.array(alpha_count), \"beta_count\": np.array(beta_count), \"time\": np.array(time)})"
   ]
  },
  {
   "cell_type": "code",
   "execution_count": 16,
   "metadata": {},
   "outputs": [
    {
     "ename": "EOFError",
     "evalue": "Ran out of input",
     "output_type": "error",
     "traceback": [
      "\u001b[1;31m---------------------------------------------------------------------------\u001b[0m",
      "\u001b[1;31mEOFError\u001b[0m                                  Traceback (most recent call last)",
      "\u001b[1;32m<ipython-input-16-139f6868d9aa>\u001b[0m in \u001b[0;36m<module>\u001b[1;34m()\u001b[0m\n\u001b[0;32m     33\u001b[0m             \u001b[0mtime\u001b[0m\u001b[1;33m.\u001b[0m\u001b[0mappend\u001b[0m\u001b[1;33m(\u001b[0m\u001b[0mnp\u001b[0m\u001b[1;33m.\u001b[0m\u001b[0maverage\u001b[0m\u001b[1;33m(\u001b[0m\u001b[0mtime_list\u001b[0m\u001b[1;33m)\u001b[0m\u001b[1;33m)\u001b[0m\u001b[1;33m\u001b[0m\u001b[0m\n\u001b[0;32m     34\u001b[0m     \u001b[1;32mexcept\u001b[0m \u001b[0mException\u001b[0m \u001b[1;32mas\u001b[0m \u001b[0me\u001b[0m\u001b[1;33m:\u001b[0m\u001b[1;33m\u001b[0m\u001b[0m\n\u001b[1;32m---> 35\u001b[1;33m         \u001b[1;32mraise\u001b[0m \u001b[1;33m(\u001b[0m\u001b[0me\u001b[0m\u001b[1;33m)\u001b[0m\u001b[1;33m\u001b[0m\u001b[0m\n\u001b[0m",
      "\u001b[1;32m<ipython-input-16-139f6868d9aa>\u001b[0m in \u001b[0;36m<module>\u001b[1;34m()\u001b[0m\n\u001b[0;32m     15\u001b[0m             \u001b[0mtime_list\u001b[0m \u001b[1;33m=\u001b[0m \u001b[1;33m[\u001b[0m\u001b[1;33m]\u001b[0m\u001b[1;33m\u001b[0m\u001b[0m\n\u001b[0;32m     16\u001b[0m             \u001b[1;32mwhile\u001b[0m \u001b[1;32mTrue\u001b[0m\u001b[1;33m:\u001b[0m\u001b[1;33m\u001b[0m\u001b[0m\n\u001b[1;32m---> 17\u001b[1;33m                 \u001b[0mobj\u001b[0m \u001b[1;33m=\u001b[0m \u001b[0mpickle\u001b[0m\u001b[1;33m.\u001b[0m\u001b[0mload\u001b[0m\u001b[1;33m(\u001b[0m\u001b[0minput_file\u001b[0m\u001b[1;33m)\u001b[0m\u001b[1;33m\u001b[0m\u001b[0m\n\u001b[0m\u001b[0;32m     18\u001b[0m                 \u001b[0mt\u001b[0m \u001b[1;33m=\u001b[0m \u001b[0mobj\u001b[0m\u001b[1;33m[\u001b[0m\u001b[1;34m'timestamp'\u001b[0m\u001b[1;33m]\u001b[0m\u001b[1;33m\u001b[0m\u001b[0m\n\u001b[0;32m     19\u001b[0m                 \u001b[0mtime_list\u001b[0m\u001b[1;33m.\u001b[0m\u001b[0mappend\u001b[0m\u001b[1;33m(\u001b[0m\u001b[0mt\u001b[0m\u001b[1;33m)\u001b[0m\u001b[1;33m\u001b[0m\u001b[0m\n",
      "\u001b[1;31mEOFError\u001b[0m: Ran out of input"
     ]
    }
   ],
   "source": [
    "# generate area data\n",
    "window_size = 2*60 # 1min\n",
    "\n",
    "alpha_dist = []\n",
    "beta_dist = []\n",
    "counter_list = []\n",
    "time = []\n",
    "with open('infer_result_sorted' ,'rb') as input_file:\n",
    "    try:\n",
    "        while True:\n",
    "            alpha_list = []\n",
    "            beta_list = []\n",
    "            counter = 0\n",
    "            \n",
    "            time_list = []\n",
    "            while True:\n",
    "                obj = pickle.load(input_file)\n",
    "                t = obj['timestamp']\n",
    "                time_list.append(t)\n",
    "                #m = json.loads(obj['m'])['cls_segms']\n",
    "                clssegms = obj['m']['cls_segms']\n",
    "                if not clssegms:\n",
    "                    continue\n",
    "                alpha_list.extend(mask.area(clssegms[1]).tolist())\n",
    "                beta_list.extend(mask.area(clssegms[2]).tolist())\n",
    "\n",
    "                counter += 1\n",
    "                if time_list[-1] - time_list[0] >= window_size * 1000:\n",
    "                    break\n",
    "            alpha_dist.append(alpha_list)\n",
    "            beta_dist.append(beta_list)\n",
    "            counter_list.append(counter)\n",
    "            time.append(np.average(time_list))\n",
    "    except Exception as e:\n",
    "        raise (e)"
   ]
  },
  {
   "cell_type": "code",
   "execution_count": 17,
   "metadata": {},
   "outputs": [],
   "source": [
    "scipy.io.savemat(\"areas\", {\"alpha_dist\": alpha_dist, \"beta_dist\": beta_dist, \"time\": time, \"counter_list\": counter_list})"
   ]
  },
  {
   "cell_type": "code",
   "execution_count": null,
   "metadata": {},
   "outputs": [],
   "source": [
    "len(alpha_dist)"
   ]
  },
  {
   "cell_type": "code",
   "execution_count": null,
   "metadata": {},
   "outputs": [],
   "source": [
    "# generate ellipse data\n",
    "window_size = 2*60 # 1min\n",
    "\n",
    "alpha_ellipse = []\n",
    "beta_ellipse = []\n",
    "time = []\n",
    "with open('ellipse.p' ,'rb') as input_file:\n",
    "    try:\n",
    "        while True:\n",
    "            alpha_list = []\n",
    "            beta_list = []\n",
    "            time_list = []\n",
    "            for i in range(window_size):\n",
    "                obj = pickle.load(input_file)\n",
    "                t = obj['timestamp']\n",
    "                time_list.append(t)\n",
    "                alpha_list.extend(obj['alpha_ellipses'])\n",
    "                beta_list.extend(obj['beta_ellipses'])\n",
    "            alpha_ellipse.append(alpha_list)\n",
    "            beta_ellipse.append(beta_list)\n",
    "            time.append(np.average(time_list))\n",
    "    except Exception as e:\n",
    "        print(e)"
   ]
  },
  {
   "cell_type": "code",
   "execution_count": null,
   "metadata": {},
   "outputs": [],
   "source": [
    "scipy.io.savemat(\"ellipses\", {\"alpha_ellipse\": alpha_ellipse, \"beta_ellipse\": beta_ellipse, \"time\": time})"
   ]
  },
  {
   "cell_type": "code",
   "execution_count": null,
   "metadata": {},
   "outputs": [],
   "source": [
    "n = np.array([[[1,2]],[[3,4]]])"
   ]
  },
  {
   "cell_type": "code",
   "execution_count": null,
   "metadata": {},
   "outputs": [],
   "source": [
    "n.reshape(-1,2).shape"
   ]
  },
  {
   "cell_type": "code",
   "execution_count": null,
   "metadata": {},
   "outputs": [],
   "source": []
  }
 ],
 "metadata": {
  "kernelspec": {
   "display_name": "Python 2",
   "language": "python",
   "name": "python2"
  },
  "language_info": {
   "codemirror_mode": {
    "name": "ipython",
    "version": 2
   },
   "file_extension": ".py",
   "mimetype": "text/x-python",
   "name": "python",
   "nbconvert_exporter": "python",
   "pygments_lexer": "ipython2",
   "version": "2.7.12"
  }
 },
 "nbformat": 4,
 "nbformat_minor": 2
}
