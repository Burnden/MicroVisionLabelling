{
 "cells": [
  {
   "cell_type": "code",
   "execution_count": 27,
   "metadata": {},
   "outputs": [],
   "source": [
    "import requests\n",
    "import json\n",
    "import numpy as np\n",
    "from pycocotools import coco, mask\n",
    "from matplotlib import pyplot as plt\n",
    "%matplotlib inline\n",
    "\n",
    "import skimage.measure as measure"
   ]
  },
  {
   "cell_type": "code",
   "execution_count": 2,
   "metadata": {},
   "outputs": [],
   "source": [
    "server_url = 'http://174.119.70.110:9088'\n",
    "image_to_infer = r\"C:\\Users\\wuyua\\MicroVisionLabelling\\Dataset\\Batch 7\\1526492425725.png\"\n"
   ]
  },
  {
   "cell_type": "code",
   "execution_count": 3,
   "metadata": {},
   "outputs": [],
   "source": [
    "with open(image_to_infer, 'rb') as f:\n",
    "    ret = requests.post(server_url, f,headers={'Content-Type': 'application/octet-stream'})"
   ]
  },
  {
   "cell_type": "code",
   "execution_count": 4,
   "metadata": {},
   "outputs": [],
   "source": [
    "obj = json.loads(ret.content)"
   ]
  },
  {
   "cell_type": "code",
   "execution_count": 5,
   "metadata": {},
   "outputs": [
    {
     "data": {
      "text/plain": [
       "{'cls_boxes': [[],\n",
       "  [[514.901489, 9.502136, 701.911255, 115.136703, 1.0],\n",
       "   [117.540558, 434.44165, 209.184235, 561.786072, 0.202053],\n",
       "   [95.16185, 425.980896, 287.423828, 568.769714, 0.129768]],\n",
       "  [[158.289124, 26.336281, 181.614227, 170.263855, 1.0],\n",
       "   [481.375305, 237.097672, 586.624329, 319.639648, 1.0],\n",
       "   [227.636353, 21.238071, 262.543915, 96.021805, 1.0],\n",
       "   [632.261719, 204.367371, 706.004028, 320.6875, 1.0],\n",
       "   [261.075836, 258.378326, 293.33316, 296.993439, 0.999904],\n",
       "   [108.419083, 21.73616, 150.424515, 85.31189, 0.999874],\n",
       "   [230.276672, 262.191711, 290.854492, 320.803772, 0.943791],\n",
       "   [659.177734, 9.386875, 786.973755, 52.832863, 1.0],\n",
       "   [116.261093, 435.249298, 208.59288, 552.034363, 0.999666]]],\n",
       " 'cls_segms': [[],\n",
       "  [{'counts': 'Yi]9P1ha01N101N101N5K1O2O001N101O1N1O2O001N101O1O001O00001O1O4L001O0O2O1O1O1O00001N101N2O1O00001O0O2O1O001O000000001O00001O0O2O0O101N10001O1O001O0O2O010O1O001O001O001O1O010O0001O001O000000001O00001O1O0000001O000000000000000000000000000000000000000000000000000000000000000000000000000O1O100O100O10000000000000000O0010O001M3O1O1N2O1O01000000O1cMf@[1[?dNm@U1S?kNPAQ1R?mNPAR1P?nNQAQ1P?mNQAS1o>lNSAS1o>jNRAV1o>hNSAW1o>gNQAY1X`0O0O2O000O100O2O0O2Nb[i1',\n",
       "    'size': [600, 800]},\n",
       "   {'counts': 'TkZ22bb05N2N7J2N1O1O7I1N2O2N1O1O7J0O1O2N;k^OZNb`0h1Y_O^N0O]`0U2N6J11O0000O11N2N101N4L2N1O3M1O1O101N10001O0O1O3M100O110O000O2N1O10100O0O2O0O10100O0O1100O0001O01N00000100O20O0O001O01O2N1O1O1M\\\\Vi:',\n",
       "    'size': [600, 800]},\n",
       "   {'counts': 'SkZ21fb03Ma0_O6K2M2O001O1Ob0^O5U_OcNR`0R2O2N1O1O2N3M1O010O001001O00O010O01O1O8H3NO01O1O10001O0O010O010O4M2OOO010O010O11O1O00000O1001O00O100O1O000O2O001O0O2O0O2N2M2O101N1O2N1N3N2M3O1N100000000O1000000O100O1O1O100000000O10000iNkLkBU3U=RMdBn2[=XM`Bh2`=^MZBb2f=`MXB`2h=bMUB_2j=bMVB^2j=cMVB\\\\2j=gMSBY2m=kMQBS2o=nMSBo1m=QNVBl1k=TNUBk1k=UNVBi1k=WNVBh1k=WNVBg1l=XNUBf1m=YNUBd1l=\\\\NUBb1m=]NTBa1m=_NTB_1n=aNRB^1o=bNQB\\\\1Q>dNoAZ1S>fNmAX1U>hNlAU1U>kNlAT1U>kNkAT1V>mNiAS1X>lNiAR1Z>mNeAP1_>oNbAn0`>SO_Al0c>TO]Aj0d>VO]Ai0d>WO[Ah0g>XOXAh0i>YOUAf0m>[OQAe0o>\\\\OPAc0R?\\\\On@c0S?^Ol@a0V?^Ok@a0U?@j@>Z?Ae@>]?Bb@<`?E`@9b?F^@9c?H\\\\@7e?H]@6d?J\\\\@4g?KZ@1i?OX@Nk?1V@Ml?2U@Ll?4T@Ln?1T@Lo?1T@LeQ\\\\9',\n",
       "    'size': [600, 800]}],\n",
       "  [{'counts': 'efl2f0ha0<_Ob0E9F=ZOc0UOj0H8M3O1M3O4M2NO1O1M7L1K8J4^MeA>g>POiAf0_`0]OgU[;',\n",
       "    'size': [600, 800]},\n",
       "   {'counts': '__l88`b01N1M3O1O10OO10010O0N20001O0000010O0000010O0000010O1O0010OO110O1OO1010O00O1O11O0N2001O01O0000010O1O00010N110O1O0001O01O0001O010O000010O00010O010O1O01O0100O0000010O001O010O001O10O100O1O101O001O0O2N2N102MVbl3',\n",
       "    'size': [600, 800]},\n",
       "   {'counts': 'QQU45bb04L3N2N3M2N2N3M3M3M4M101M4N1O0000010O2N02N10O1O0000N3M2N3M3M2N5K=Cagk9',\n",
       "    'size': [600, 800]},\n",
       "   {'counts': ']`b;9_b02M4M2N1O2N1O2N4L1O3M2N1O3N01O01O010O1O02OO00100O0100O0011N01O10O010O1O02OO02O2NO02OO00O3N0O2O2O0O1000N100010N1O1010O000100O01000O4K20O01N101O10OOohf1',\n",
       "    'size': [600, 800]},\n",
       "   {'counts': 'Zii44bb04L3N2N2N101N1O2N1O2M2O1O0NO03O020OO2O1O1O1O1O1O1O1N2N3N3K6LRjX9',\n",
       "    'size': [600, 800]},\n",
       "   {'counts': 'Z[o1;]b01O0N200O1N2M3N2O1N2O0O00O100N2N30ON210O010O1O0O20O0001O0O2O10O01N201N1O100O3M2Me]m;',\n",
       "    'size': [600, 800]},\n",
       "   {'counts': 'gjX41db04L3O1M3O00001OO11O00000O100O1000000N200000000001N0010000000000010O001O1O1O1O001N101M2O11O1O1O1N2O1N2O1O1O1O100O1O2Nj\\\\Y9',\n",
       "    'size': [600, 800]},\n",
       "   {'counts': 'bTR<4cb02O00003M0000001O1O001O001O1O00001O1O1O00001O1O01O01O00000010O01O01O001O000010O0001O01O01O10O00010O010O01O0100O1O01O010O01O00010O01O01O010O0001O010O0000010O001O00010O00001O00001O00001O0O1010O0001O00000000001O0000001O0010O001O01O00001O00000001O000001O0O10^b7',\n",
       "    'size': [600, 800]},\n",
       "   {'counts': 'h][26_b09I2O1O5J2O1O3M3M1O2N2N1O105J10001O1O002O1N00011N2N01O2OO02O00O000001OO11O0O1010OO10011N0O103N0O00001O000O5L0O10100OO01100OO0101O0000001N02N100O1O2N1O001O1O2M3Mlhi:',\n",
       "    'size': [600, 800]}]]}"
      ]
     },
     "execution_count": 5,
     "metadata": {},
     "output_type": "execute_result"
    }
   ],
   "source": [
    "obj"
   ]
  },
  {
   "cell_type": "code",
   "execution_count": 25,
   "metadata": {},
   "outputs": [],
   "source": [
    "msk = mask.decode(obj['cls_segms'][2])"
   ]
  },
  {
   "cell_type": "code",
   "execution_count": 26,
   "metadata": {},
   "outputs": [
    {
     "data": {
      "text/plain": [
       "<matplotlib.image.AxesImage at 0x1e544f25f28>"
      ]
     },
     "execution_count": 26,
     "metadata": {},
     "output_type": "execute_result"
    },
    {
     "data": {
      "image/png": "[encoded data removed]",
      "text/plain": [
       "<matplotlib.figure.Figure at 0x1e544d57d68>"
      ]
     },
     "metadata": {},
     "output_type": "display_data"
    }
   ],
   "source": [
    "plt.imshow(msk[:,:,0])"
   ]
  },
  {
   "cell_type": "code",
   "execution_count": 80,
   "metadata": {},
   "outputs": [
    {
     "name": "stdout",
     "output_type": "stream",
     "text": [
      "Warning: segment1,2 contains 2 parts. They are seperated into multiple objects\n"
     ]
    }
   ],
   "source": [
    "shapes = []\n",
    "main_label = 'crystal form'\n",
    "labels = ['alpha', 'beta']\n",
    "tol = 2\n",
    "cls_segms = obj['cls_segms']\n",
    "for i in range(1, len(labels) + 1):\n",
    "    # processing which class\n",
    "    current_masks = mask.decode(cls_segms[i])\n",
    "    for j in range(current_masks.shape[-1]):\n",
    "        # processing which instance\n",
    "        current_mask = current_masks[:, :, j]\n",
    "        contours = measure.find_contours(current_mask, 0.1)\n",
    "        if (len(contours) > 1):\n",
    "            print(\"Warning: segment{},{} contains {} parts. They are seperated into multiple objects\".format(i, j, len(contours)))\n",
    "        for contour in contours:\n",
    "            pts = measure.approximate_polygon(contour, tol)\n",
    "            shapes.append({\"name\": \"polygon\", \"all_points_x\": pts[:,1], \"all_points_y\": pts[:,0]})"
   ]
  },
  {
   "cell_type": "code",
   "execution_count": 81,
   "metadata": {},
   "outputs": [
    {
     "data": {
      "text/plain": [
       "[{'all_points_x': array([ 652. ,  597. ,  579. ,  549. ,  539. ,  521. ,  514.1,  514.1,\n",
       "          533. ,  573. ,  585. ,  615. ,  667. ,  677. ,  688. ,  691.9,\n",
       "          681.9,  682.9,  686. ,  701.9,  701.9,  695. ,  658. ,  652. ]),\n",
       "  'all_points_y': array([ 114.9,  114.9,  103.9,   91.9,   80.9,   71.9,   64. ,   33. ,\n",
       "           23.1,   19.1,   15.1,   23.1,   23.1,   11.1,   13.1,   22. ,\n",
       "           29. ,   51. ,   56.1,   63. ,   98. ,  102.9,  110.9,  114.9]),\n",
       "  'name': 'polygon'},\n",
       " {'all_points_x': array([ 208. ,  194. ,  188. ,  172. ,  152. ,  146.1,  143.1,  126.1,\n",
       "          130. ,  145. ,  152.9,  159.9,  192.9,  209.9,  208. ]),\n",
       "  'all_points_y': array([ 557.9,  552.9,  543.9,  530.9,  524.9,  519. ,  482. ,  445. ,\n",
       "          437.1,  437.1,  443. ,  459. ,  505. ,  518. ,  557.9]),\n",
       "  'name': 'polygon'},\n",
       " {'all_points_x': array([ 278. ,  250. ,  238.1,  232.1,  230. ,  244. ,  275. ,  285.9,\n",
       "          287.9,  285. ,  278. ]),\n",
       "  'all_points_y': array([ 482.9,  460.9,  458. ,  446. ,  426.1,  425.1,  449.1,  454. ,\n",
       "          478. ,  481.9,  482.9]),\n",
       "  'name': 'polygon'},\n",
       " {'all_points_x': array([ 242. ,  208. ,  188. ,  169. ,  151. ,  142.1,  136.1,  135.1,\n",
       "          130.1,  128.1,  126.1,  130. ,  145. ,  154. ,  157.9,  169.9,\n",
       "          171. ,  187. ,  196. ,  209. ,  236. ,  256. ,  278. ,  287.9,\n",
       "          287.9,  279.9,  258. ,  242. ]),\n",
       "  'all_points_y': array([ 568.9,  568.9,  557.9,  538.9,  531.9,  525. ,  515. ,  472. ,\n",
       "          468. ,  461. ,  443. ,  439.1,  439.1,  445.1,  458. ,  468. ,\n",
       "          474.1,  487.1,  485.1,  471.1,  464.1,  490.1,  496.1,  504. ,\n",
       "          521. ,  534. ,  556.9,  568.9]),\n",
       "  'name': 'polygon'},\n",
       " {'all_points_x': array([ 170. ,  168. ,  161.1,  157.1,  157.1,  164.1,  167.1,  173. ,\n",
       "          178.9,  176.9,  179.9,  176.9,  170. ]),\n",
       "  'all_points_y': array([ 170.9,  165.9,  164. ,  154. ,  133. ,   39. ,   32. ,   30.1,\n",
       "           49. ,  102. ,  138. ,  159. ,  170.9]),\n",
       "  'name': 'polygon'},\n",
       " {'all_points_x': array([ 490. ,  484.1,  484.1,  527. ,  573. ,  585.9,  585. ,  532. ,\n",
       "          517. ,  490. ]),\n",
       "  'all_points_y': array([ 319.9,  318. ,  311. ,  269.1,  236.1,  241. ,  257.9,  286.9,\n",
       "          301.9,  319.9]),\n",
       "  'name': 'polygon'},\n",
       " {'all_points_x': array([ 260. ,  252. ,  249.1,  226.1,  229. ,  237. ,  247.9,  258.9,\n",
       "          260. ]),\n",
       "  'all_points_y': array([ 95.9,  95.9,  91. ,  29. ,  22.1,  22.1,  41. ,  69. ,  95.9]),\n",
       "  'name': 'polygon'},\n",
       " {'all_points_x': array([ 705. ,  673.1,  644.1,  631.1,  632. ,  645. ,  668.9,  682.9,\n",
       "          692.9,  705.9,  705. ]),\n",
       "  'all_points_y': array([ 319.9,  285. ,  240. ,  213. ,  204.1,  203.1,  238. ,  269. ,\n",
       "          280. ,  305. ,  319.9]),\n",
       "  'name': 'polygon'},\n",
       " {'all_points_x': array([ 274. ,  266. ,  261.1,  275.1,  278. ,  289. ,  292.9,  274. ]),\n",
       "  'all_points_y': array([ 293.9,  290.9,  282. ,  266. ,  257.1,  256.1,  267. ,  293.9]),\n",
       "  'name': 'polygon'},\n",
       " {'all_points_x': array([ 118. ,  107.1,  107.1,  113.1,  126.1,  146. ,  148.9,  147.9,\n",
       "          125.9,  118. ]),\n",
       "  'all_points_y': array([ 85.9,  84. ,  74. ,  70. ,  45. ,  20.1,  22. ,  25. ,  65. ,  85.9]),\n",
       "  'name': 'polygon'},\n",
       " {'all_points_x': array([ 237. ,  232.1,  234.1,  251.1,  273.1,  277. ,  290. ,  291.9,\n",
       "          275. ,  265. ,  237. ]),\n",
       "  'all_points_y': array([ 320.9,  319. ,  313. ,  290. ,  269. ,  261.1,  261.1,  271. ,\n",
       "          288.9,  291.9,  320.9]),\n",
       "  'name': 'polygon'},\n",
       " {'all_points_x': array([ 784. ,  728. ,  707. ,  682. ,  663. ,  658.1,  689. ,  757. ,\n",
       "          786. ,  786.9,  784. ]),\n",
       "  'all_points_y': array([ 49.9,  43.9,  33.9,  27.9,  17.9,  10. ,   9.1,  35.1,  41.1,\n",
       "          48. ,  49.9]),\n",
       "  'name': 'polygon'},\n",
       " {'all_points_x': array([ 206. ,  196. ,  158.1,  128.1,  127.1,  130. ,  141. ,  148.9,\n",
       "          158.9,  171.9,  185.9,  206.9,  208.9,  206. ]),\n",
       "  'all_points_y': array([ 548.9,  547.9,  509. ,  451. ,  440. ,  435.1,  434.1,  441. ,\n",
       "          459. ,  474. ,  501. ,  521. ,  546. ,  548.9]),\n",
       "  'name': 'polygon'}]"
      ]
     },
     "execution_count": 81,
     "metadata": {},
     "output_type": "execute_result"
    }
   ],
   "source": [
    "shapes"
   ]
  },
  {
   "cell_type": "code",
   "execution_count": 82,
   "metadata": {},
   "outputs": [
    {
     "ename": "SyntaxError",
     "evalue": "illegal target for annotation (<ipython-input-82-eb35785f49f8>, line 1)",
     "output_type": "error",
     "traceback": [
      "\u001b[1;36m  File \u001b[1;32m\"<ipython-input-82-eb35785f49f8>\"\u001b[1;36m, line \u001b[1;32m1\u001b[0m\n\u001b[1;33m    1:10\u001b[0m\n\u001b[1;37m        ^\u001b[0m\n\u001b[1;31mSyntaxError\u001b[0m\u001b[1;31m:\u001b[0m illegal target for annotation\n"
     ]
    }
   ],
   "source": [
    "1:10"
   ]
  },
  {
   "cell_type": "code",
   "execution_count": null,
   "metadata": {},
   "outputs": [],
   "source": []
  }
 ],
 "metadata": {
  "kernelspec": {
   "display_name": "Python 3",
   "language": "python",
   "name": "python3"
  },
  "language_info": {
   "codemirror_mode": {
    "name": "ipython",
    "version": 3
   },
   "file_extension": ".py",
   "mimetype": "text/x-python",
   "name": "python",
   "nbconvert_exporter": "python",
   "pygments_lexer": "ipython3",
   "version": "3.6.3"
  }
 },
 "nbformat": 4,
 "nbformat_minor": 2
}
