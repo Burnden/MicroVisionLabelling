{
 "cells": [
  {
   "cell_type": "code",
   "execution_count": 1,
   "metadata": {},
   "outputs": [],
   "source": [
    "import json\n",
    "import pickle\n",
    "from matplotlib import pyplot as plt\n",
    "%matplotlib inline\n",
    "import numpy as np\n",
    "from pycocotools import mask as cocoMask\n",
    "import itertools\n",
    "import cv2"
   ]
  },
  {
   "cell_type": "code",
   "execution_count": 2,
   "metadata": {
    "scrolled": true
   },
   "outputs": [
    {
     "name": "stdout",
     "output_type": "stream",
     "text": [
      "Ran out of input\n"
     ]
    }
   ],
   "source": [
    "# plot distributions\n",
    "window_size = 50\n",
    "alpha_dist = []\n",
    "beta_dist = []\n",
    "with open('ellipse.p' ,'rb') as input_file:\n",
    "    try:\n",
    "        while True:\n",
    "            alpha_list = []\n",
    "            beta_list = []\n",
    "            for i in range(window_size):\n",
    "                obj = pickle.load(input_file)\n",
    "                alpha_list.extend(obj['alpha_ellipses'])\n",
    "                beta_list.extend(obj['beta_ellipses'])\n",
    "            alpha_dist.append(alpha_list)\n",
    "            beta_dist.append(beta_list)\n",
    "    except Exception as e:\n",
    "        print(e)"
   ]
  },
  {
   "cell_type": "code",
   "execution_count": 3,
   "metadata": {},
   "outputs": [
    {
     "data": {
      "text/plain": [
       "(array([  4.,  10.,   7.,  10.,  12.,  14.,  18.,  13.,  17.,  13.,  11.,\n",
       "          5.,   7.,   3.,   4.,   2.,   0.,   1.,   1.,   2.]),\n",
       " array([  31.96346664,   45.04575748,   58.12804832,   71.21033916,\n",
       "          84.29263   ,   97.37492085,  110.45721169,  123.53950253,\n",
       "         136.62179337,  149.70408421,  162.78637505,  175.86866589,\n",
       "         188.95095673,  202.03324757,  215.11553841,  228.19782925,\n",
       "         241.28012009,  254.36241093,  267.44470177,  280.52699261,\n",
       "         293.60928345]),\n",
       " <a list of 20 Patch objects>)"
      ]
     },
     "execution_count": 3,
     "metadata": {},
     "output_type": "execute_result"
    },
    {
     "data": {
      "image/png": "[encoded data removed]",
      "text/plain": [
       "<matplotlib.figure.Figure at 0x23d8b755cf8>"
      ]
     },
     "metadata": {},
     "output_type": "display_data"
    }
   ],
   "source": [
    "plt.hist([e[1][1] for e in alpha_dist[0]], bins=20) # alpha, ax1"
   ]
  },
  {
   "cell_type": "code",
   "execution_count": 4,
   "metadata": {},
   "outputs": [
    {
     "data": {
      "text/plain": [
       "(array([  2.,  17.,  18.,  16.,  16.,  17.,  13.,  23.,  17.,  10.,   7.,\n",
       "          8.,   9.,   8.,   5.,   1.,   3.,   1.,   2.,   1.]),\n",
       " array([   1.        ,   13.07272339,   25.14544678,   37.21817017,\n",
       "          49.29089355,   61.36361694,   73.43634033,   85.50906372,\n",
       "          97.58178711,  109.6545105 ,  121.72723389,  133.79995728,\n",
       "         145.87268066,  157.94540405,  170.01812744,  182.09085083,\n",
       "         194.16357422,  206.23629761,  218.309021  ,  230.38174438,\n",
       "         242.45446777]),\n",
       " <a list of 1 Patch objects>)"
      ]
     },
     "execution_count": 4,
     "metadata": {},
     "output_type": "execute_result"
    },
    {
     "data": {
      "image/png": "[encoded data removed]",
      "text/plain": [
       "<matplotlib.figure.Figure at 0x23d8a7d1630>"
      ]
     },
     "metadata": {},
     "output_type": "display_data"
    }
   ],
   "source": [
    "sel=100\n",
    "lst = alpha_dist\n",
    "plt.hist([e[1][0] for e in lst[sel]], bins=20, histtype='step') # beta, ax1\n",
    "plt.hist([e[1][1] for e in lst[sel]], bins=20, histtype='step') # beta, ax2"
   ]
  },
  {
   "cell_type": "code",
   "execution_count": 5,
   "metadata": {},
   "outputs": [
    {
     "data": {
      "text/plain": [
       "(array([  90.,  147.,  282.,  251.,  197.,   99.,   51.,   28.,   15.,\n",
       "           8.,    8.,    1.,    4.,    2.,    2.,    0.,    0.,    0.,\n",
       "           0.,    1.]),\n",
       " array([   0.        ,    6.61611023,   13.23222046,   19.84833069,\n",
       "          26.46444092,   33.08055115,   39.69666138,   46.31277161,\n",
       "          52.92888184,   59.54499207,   66.16110229,   72.77721252,\n",
       "          79.39332275,   86.00943298,   92.62554321,   99.24165344,\n",
       "         105.85776367,  112.4738739 ,  119.08998413,  125.70609436,\n",
       "         132.32220459]),\n",
       " <a list of 1 Patch objects>)"
      ]
     },
     "execution_count": 5,
     "metadata": {},
     "output_type": "execute_result"
    },
    {
     "data": {
      "image/png": "[encoded data removed]",
      "text/plain": [
       "<matplotlib.figure.Figure at 0x23d8b75d630>"
      ]
     },
     "metadata": {},
     "output_type": "display_data"
    }
   ],
   "source": [
    "sel=100\n",
    "plt.hist([e[1][0] for e in beta_dist[sel]], bins=20, histtype='step') # beta, ax1\n",
    "#plt.hist([e[1][1] for e in beta_dist[sel]], bins=20, histtype='step') # beta, ax2"
   ]
  },
  {
   "cell_type": "code",
   "execution_count": 6,
   "metadata": {},
   "outputs": [
    {
     "data": {
      "image/png": "[encoded data removed]",
      "text/plain": [
       "<matplotlib.figure.Figure at 0x23dbabf0278>"
      ]
     },
     "metadata": {},
     "output_type": "display_data"
    }
   ],
   "source": [
    "for i in range(10,800,200):\n",
    "    plt.hist([e[1][1] for e in beta_dist[i]], bins=50, histtype='step', range=(0,600)) # beta, ax1\n"
   ]
  },
  {
   "cell_type": "code",
   "execution_count": 8,
   "metadata": {},
   "outputs": [
    {
     "data": {
      "image/png": "[encoded data removed]",
      "text/plain": [
       "<matplotlib.figure.Figure at 0x23dbac7c400>"
      ]
     },
     "metadata": {},
     "output_type": "display_data"
    }
   ],
   "source": [
    "beta_values = plt.hist([e[1][1] for e in beta_dist[-100]], bins=100, histtype='step', range=(0,600)) # beta, ax1\n"
   ]
  },
  {
   "cell_type": "code",
   "execution_count": 19,
   "metadata": {},
   "outputs": [
    {
     "data": {
      "text/plain": [
       "[<matplotlib.lines.Line2D at 0x23dbb025ba8>]"
      ]
     },
     "execution_count": 19,
     "metadata": {},
     "output_type": "execute_result"
    },
    {
     "data": {
      "image/png": "[encoded data removed]",
      "text/plain": [
       "<matplotlib.figure.Figure at 0x23dbaf89b70>"
      ]
     },
     "metadata": {},
     "output_type": "display_data"
    }
   ],
   "source": [
    "plt.plot(beta_values[1][1:], beta_values[0])"
   ]
  },
  {
   "cell_type": "code",
   "execution_count": 2,
   "metadata": {},
   "outputs": [],
   "source": [
    "def mask2ellipse(m):\n",
    "    ret = []\n",
    "    if not len(m):\n",
    "        return ret\n",
    "    masks = cocoMask.decode(m)\n",
    "    for mask in masks:\n",
    "        _, contours, _ = cv2.findContours(mask.copy(), cv2.RETR_EXTERNAL, cv2.CHAIN_APPROX_NONE)\n",
    "        if not len(contours):\n",
    "            continue\n",
    "        contours = sorted(contours, reverse=True, key=cv2.contourArea)\n",
    "        # only process the greatest contour\n",
    "        contour = contours[0]\n",
    "        if len(contour) < 5:\n",
    "            continue\n",
    "        e = cv2.fitEllipse(contour)\n",
    "        ret.append((e[1], cv2.contourArea(contour)))\n",
    "    return ret"
   ]
  },
  {
   "cell_type": "code",
   "execution_count": 8,
   "metadata": {
    "scrolled": true
   },
   "outputs": [
    {
     "name": "stdout",
     "output_type": "stream",
     "text": [
      "1\n",
      "2\n",
      "3\n",
      "4\n",
      "5\n",
      "6\n",
      "7\n",
      "8\n",
      "9\n",
      "10\n",
      "11\n",
      "12\n",
      "13\n",
      "14\n",
      "15\n",
      "16\n",
      "17\n",
      "18\n",
      "19\n",
      "20\n",
      "21\n",
      "22\n",
      "23\n",
      "24\n",
      "25\n",
      "26\n",
      "27\n",
      "28\n",
      "29\n",
      "30\n",
      "31\n",
      "32\n",
      "33\n",
      "34\n",
      "35\n",
      "36\n",
      "37\n",
      "38\n",
      "39\n",
      "40\n",
      "41\n",
      "42\n",
      "43\n",
      "44\n",
      "45\n",
      "46\n",
      "47\n",
      "48\n",
      "49\n",
      "50\n",
      "51\n",
      "52\n",
      "53\n",
      "54\n",
      "55\n",
      "56\n",
      "57\n",
      "58\n",
      "59\n",
      "60\n",
      "61\n",
      "62\n",
      "63\n",
      "64\n",
      "65\n"
     ]
    },
    {
     "ename": "KeyboardInterrupt",
     "evalue": "",
     "output_type": "error",
     "traceback": [
      "\u001b[1;31m---------------------------------------------------------------------------\u001b[0m",
      "\u001b[1;31mKeyboardInterrupt\u001b[0m                         Traceback (most recent call last)",
      "\u001b[1;32m<ipython-input-8-dceef0c6b526>\u001b[0m in \u001b[0;36m<module>\u001b[1;34m()\u001b[0m\n\u001b[0;32m     18\u001b[0m                 \u001b[1;31m#alpha\u001b[0m\u001b[1;33m\u001b[0m\u001b[1;33m\u001b[0m\u001b[0m\n\u001b[0;32m     19\u001b[0m                 \u001b[0malpha_list\u001b[0m\u001b[1;33m.\u001b[0m\u001b[0mextend\u001b[0m\u001b[1;33m(\u001b[0m\u001b[0mmask2ellipse\u001b[0m\u001b[1;33m(\u001b[0m\u001b[0mm\u001b[0m\u001b[1;33m[\u001b[0m\u001b[1;36m1\u001b[0m\u001b[1;33m]\u001b[0m\u001b[1;33m)\u001b[0m\u001b[1;33m)\u001b[0m\u001b[1;33m\u001b[0m\u001b[0m\n\u001b[1;32m---> 20\u001b[1;33m                 \u001b[0mbeta_list\u001b[0m\u001b[1;33m.\u001b[0m\u001b[0mextend\u001b[0m\u001b[1;33m(\u001b[0m\u001b[0mmask2ellipse\u001b[0m\u001b[1;33m(\u001b[0m\u001b[0mm\u001b[0m\u001b[1;33m[\u001b[0m\u001b[1;36m2\u001b[0m\u001b[1;33m]\u001b[0m\u001b[1;33m)\u001b[0m\u001b[1;33m)\u001b[0m\u001b[1;33m\u001b[0m\u001b[0m\n\u001b[0m\u001b[0;32m     21\u001b[0m             \u001b[0malpha_area_ellipse_list\u001b[0m\u001b[1;33m.\u001b[0m\u001b[0mappend\u001b[0m\u001b[1;33m(\u001b[0m\u001b[0malpha_list\u001b[0m\u001b[1;33m)\u001b[0m\u001b[1;33m\u001b[0m\u001b[0m\n\u001b[0;32m     22\u001b[0m             \u001b[0mbeta_area_ellipse_list\u001b[0m\u001b[1;33m.\u001b[0m\u001b[0mappend\u001b[0m\u001b[1;33m(\u001b[0m\u001b[0mbeta_list\u001b[0m\u001b[1;33m)\u001b[0m\u001b[1;33m\u001b[0m\u001b[0m\n",
      "\u001b[1;32m<ipython-input-7-8ab40f143863>\u001b[0m in \u001b[0;36mmask2ellipse\u001b[1;34m(m)\u001b[0m\n\u001b[0;32m      5\u001b[0m     \u001b[0mmasks\u001b[0m \u001b[1;33m=\u001b[0m \u001b[0mcocoMask\u001b[0m\u001b[1;33m.\u001b[0m\u001b[0mdecode\u001b[0m\u001b[1;33m(\u001b[0m\u001b[0mm\u001b[0m\u001b[1;33m)\u001b[0m\u001b[1;33m\u001b[0m\u001b[0m\n\u001b[0;32m      6\u001b[0m     \u001b[1;32mfor\u001b[0m \u001b[0mmask\u001b[0m \u001b[1;32min\u001b[0m \u001b[0mmasks\u001b[0m\u001b[1;33m:\u001b[0m\u001b[1;33m\u001b[0m\u001b[0m\n\u001b[1;32m----> 7\u001b[1;33m         \u001b[0m_\u001b[0m\u001b[1;33m,\u001b[0m \u001b[0mcontours\u001b[0m\u001b[1;33m,\u001b[0m \u001b[0m_\u001b[0m \u001b[1;33m=\u001b[0m \u001b[0mcv2\u001b[0m\u001b[1;33m.\u001b[0m\u001b[0mfindContours\u001b[0m\u001b[1;33m(\u001b[0m\u001b[0mmask\u001b[0m\u001b[1;33m.\u001b[0m\u001b[0mcopy\u001b[0m\u001b[1;33m(\u001b[0m\u001b[1;33m)\u001b[0m\u001b[1;33m,\u001b[0m \u001b[0mcv2\u001b[0m\u001b[1;33m.\u001b[0m\u001b[0mRETR_EXTERNAL\u001b[0m\u001b[1;33m,\u001b[0m \u001b[0mcv2\u001b[0m\u001b[1;33m.\u001b[0m\u001b[0mCHAIN_APPROX_NONE\u001b[0m\u001b[1;33m)\u001b[0m\u001b[1;33m\u001b[0m\u001b[0m\n\u001b[0m\u001b[0;32m      8\u001b[0m         \u001b[1;32mif\u001b[0m \u001b[1;32mnot\u001b[0m \u001b[0mlen\u001b[0m\u001b[1;33m(\u001b[0m\u001b[0mcontours\u001b[0m\u001b[1;33m)\u001b[0m\u001b[1;33m:\u001b[0m\u001b[1;33m\u001b[0m\u001b[0m\n\u001b[0;32m      9\u001b[0m             \u001b[1;32mcontinue\u001b[0m\u001b[1;33m\u001b[0m\u001b[0m\n",
      "\u001b[1;31mKeyboardInterrupt\u001b[0m: "
     ]
    }
   ],
   "source": [
    "# create ellipse vs area data\n",
    "\n",
    "window_size = 120\n",
    "alpha_area_ellipse_list = []\n",
    "beta_area_ellipse_list = []\n",
    "\n",
    "\n",
    "with open('infer_result_remove_overlapping' ,'rb') as input_file:\n",
    "    try:\n",
    "        while True:\n",
    "            alpha_list = []\n",
    "            beta_list = []\n",
    "            for i in range(window_size):\n",
    "                obj = pickle.load(input_file)\n",
    "                m = json.loads(obj['m'])['cls_segms']\n",
    "                if not m:\n",
    "                    continue\n",
    "                #alpha\n",
    "                alpha_list.extend(mask2ellipse(m[1]))\n",
    "                beta_list.extend(mask2ellipse(m[2]))\n",
    "            alpha_area_ellipse_list.append(alpha_list)\n",
    "            beta_area_ellipse_list.append(beta_list)\n",
    "            print(len(alpha_area_ellipse_list))\n",
    "    except Exception as e:\n",
    "        raise(e)"
   ]
  },
  {
   "cell_type": "code",
   "execution_count": null,
   "metadata": {},
   "outputs": [
    {
     "name": "stdout",
     "output_type": "stream",
     "text": [
      "Prepared an object\n",
      "Prepared an object\n",
      "Prepared an object\n",
      "Prepared an object\n"
     ]
    }
   ],
   "source": [
    "#multi processor\n",
    "from multiprocessing import Process, Pool, BoundedSemaphore\n",
    "\n",
    "window_size = 120\n",
    "alpha_area_ellipse_list = []\n",
    "beta_area_ellipse_list = []\n",
    "\n",
    "def process_task(lock, t, load_list, alpha_area_ellipse_list, beta_area_ellipse_list):\n",
    "    #only process one time point\n",
    "    print(t)\n",
    "    alpha_list = []\n",
    "    beta_list = []\n",
    "    for loaded in load_list:\n",
    "        alpha_list.extend(mask2ellipse(loaded[1]))\n",
    "        beta_list.extend(mask2ellipse(loaded[2]))\n",
    "    alpha_area_ellipse_list.append([t,alpha_list])\n",
    "    alpha_area_ellipse_list.append([t,beta_list])\n",
    "    lock.release()\n",
    "with open('infer_result_remove_overlapping' ,'rb') as input_file:\n",
    "    load_list = []\n",
    "    t_list = []\n",
    "    pool = Pool(processes=4) \n",
    "    lock = BoundedSemaphore(3)\n",
    "    while True:\n",
    "        try:\n",
    "            for i in range(window_size):\n",
    "                obj = pickle.load(input_file)\n",
    "                m = json.loads(obj['m'])['cls_segms']\n",
    "                try:\n",
    "                    f = int(obj['f'].split('.')[0])\n",
    "                except:\n",
    "                    continue\n",
    "                t_list.append(f)\n",
    "                if not m:\n",
    "                    continue\n",
    "                load_list.append(m)\n",
    "            t = np.mean(t_list)\n",
    "            print (\"Prepared an object\")\n",
    "            \n",
    "            lock.acquire()\n",
    "            pool.apply_async(process_task, (lock, t, load_list, alpha_area_ellipse_list, beta_area_ellipse_list))\n",
    "        except Exception as e:\n",
    "            raise(e)"
   ]
  },
  {
   "cell_type": "code",
   "execution_count": 4,
   "metadata": {},
   "outputs": [],
   "source": [
    "pool.terminate()"
   ]
  },
  {
   "cell_type": "code",
   "execution_count": 5,
   "metadata": {},
   "outputs": [
    {
     "data": {
      "text/plain": [
       "[]"
      ]
     },
     "execution_count": 5,
     "metadata": {},
     "output_type": "execute_result"
    }
   ],
   "source": [
    "alpha_area_ellipse_list"
   ]
  },
  {
   "cell_type": "code",
   "execution_count": null,
   "metadata": {},
   "outputs": [],
   "source": []
  }
 ],
 "metadata": {
  "kernelspec": {
   "display_name": "Python 3",
   "language": "python",
   "name": "python3"
  },
  "language_info": {
   "codemirror_mode": {
    "name": "ipython",
    "version": 3
   },
   "file_extension": ".py",
   "mimetype": "text/x-python",
   "name": "python",
   "nbconvert_exporter": "python",
   "pygments_lexer": "ipython3",
   "version": "3.6.5"
  }
 },
 "nbformat": 4,
 "nbformat_minor": 2
}
