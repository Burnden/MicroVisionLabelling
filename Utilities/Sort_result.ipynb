{
 "cells": [
  {
   "cell_type": "code",
   "execution_count": 1,
   "metadata": {},
   "outputs": [],
   "source": [
    "import pickle\n"
   ]
  },
  {
   "cell_type": "code",
   "execution_count": 7,
   "metadata": {},
   "outputs": [
    {
     "name": "stdout",
     "output_type": "stream",
     "text": [
      "Skip 1526492986365 - Copy.png\n",
      "Skip 1526492986864 - Copy.png\n",
      "Skip 1526492990369 - Copy.png\n",
      "Skip 1526493008890 - Copy.png\n",
      "Skip 1526493010893 - Copy.png\n",
      "Loaded 40087 objects\n"
     ]
    }
   ],
   "source": [
    "# generate sorted result;\n",
    "\n",
    "file_to_sort = r\"C:\\Users\\wuyua\\Downloads\\infer_result_filtered\"\n",
    "file_to_output = 'infer_result_sorted'\n",
    "\n",
    "counter = 0\n",
    "all_results = []\n",
    "\n",
    "with open(file_to_sort ,'rb') as input_file, open(file_to_output, 'wb') as output_file:\n",
    "    try:\n",
    "        while True:\n",
    "            obj = pickle.load(input_file, encoding='latin1')\n",
    "            try:\n",
    "                timestamp = int(obj['f'].split('.')[0])\n",
    "            except:\n",
    "                print(\"Skip {}\".format(obj['f']))\n",
    "                continue\n",
    "            obj['timestamp'] = timestamp\n",
    "            all_results.append(obj)\n",
    "            counter += 1\n",
    "    except EOFError:\n",
    "        print(\"Loaded {} objects\".format(counter))\n",
    "        \n",
    "    all_results.sort(key=lambda x: x['timestamp'])\n",
    "    \n",
    "    for result in all_results:\n",
    "        pickle.dump(result, output_file, protocol=2)"
   ]
  },
  {
   "cell_type": "code",
   "execution_count": null,
   "metadata": {},
   "outputs": [],
   "source": [
    "all"
   ]
  }
 ],
 "metadata": {
  "kernelspec": {
   "display_name": "Python 3",
   "language": "python",
   "name": "python3"
  },
  "language_info": {
   "codemirror_mode": {
    "name": "ipython",
    "version": 3
   },
   "file_extension": ".py",
   "mimetype": "text/x-python",
   "name": "python",
   "nbconvert_exporter": "python",
   "pygments_lexer": "ipython3",
   "version": "3.6.5"
  }
 },
 "nbformat": 4,
 "nbformat_minor": 2
}
