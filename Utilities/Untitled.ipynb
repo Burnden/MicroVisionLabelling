{
 "cells": [
  {
   "cell_type": "code",
   "execution_count": 4,
   "metadata": {},
   "outputs": [],
   "source": [
    "import cv2\n",
    "import skimage.draw\n",
    "import numpy as np\n",
    "from matplotlib import pyplot as plt\n",
    "%matplotlib inline"
   ]
  },
  {
   "cell_type": "code",
   "execution_count": 13,
   "metadata": {},
   "outputs": [],
   "source": [
    "I = np.zeros((600,800), dtype=np.uint8)"
   ]
  },
  {
   "cell_type": "code",
   "execution_count": 17,
   "metadata": {},
   "outputs": [
    {
     "data": {
      "text/plain": [
       "<matplotlib.image.AxesImage at 0x228088c3160>"
      ]
     },
     "execution_count": 17,
     "metadata": {},
     "output_type": "execute_result"
    },
    {
     "data": {
      "image/png": "[encoded data removed]",
      "text/plain": [
       "<Figure size 432x288 with 1 Axes>"
      ]
     },
     "metadata": {},
     "output_type": "display_data"
    }
   ],
   "source": [
    "rr,cc = skimage.draw.circle(300,300,100)\n",
    "I[rr, cc] = 1\n",
    "\n",
    "rr,cc = skimage.draw.circle(300,500,20)\n",
    "I[rr, cc] = 1\n",
    "\n",
    "plt.imshow(I)"
   ]
  },
  {
   "cell_type": "code",
   "execution_count": 24,
   "metadata": {},
   "outputs": [],
   "source": [
    "_, c, _ = cv2.findContours(I.copy(), cv2.RETR_LIST, cv2.CHAIN_APPROX_NONE)"
   ]
  },
  {
   "cell_type": "code",
   "execution_count": 31,
   "metadata": {},
   "outputs": [
    {
     "data": {
      "text/plain": [
       "array([494, 493, 492, 491, 490, 489, 488, 487, 486, 485, 485, 484, 483,\n",
       "       483, 482, 482, 481, 481, 481, 481, 481, 481, 481, 481, 481, 481,\n",
       "       481, 481, 481, 482, 482, 483, 483, 484, 485, 485, 486, 487, 488,\n",
       "       489, 490, 491, 492, 493, 494, 495, 496, 497, 498, 499, 500, 501,\n",
       "       502, 503, 504, 505, 506, 507, 508, 509, 510, 511, 512, 513, 514,\n",
       "       515, 515, 516, 517, 517, 518, 518, 519, 519, 519, 519, 519, 519,\n",
       "       519, 519, 519, 519, 519, 519, 519, 518, 518, 517, 517, 516, 515,\n",
       "       515, 514, 513, 512, 511, 510, 509, 508, 507, 506, 505, 504, 503,\n",
       "       502, 501, 500, 499, 498, 497, 496, 495], dtype=int32)"
      ]
     },
     "execution_count": 31,
     "metadata": {},
     "output_type": "execute_result"
    }
   ],
   "source": [
    "c[0].reshape(-1,2)[:,0]"
   ]
  },
  {
   "cell_type": "code",
   "execution_count": null,
   "metadata": {},
   "outputs": [],
   "source": []
  }
 ],
 "metadata": {
  "kernelspec": {
   "display_name": "Python 3",
   "language": "python",
   "name": "python3"
  },
  "language_info": {
   "codemirror_mode": {
    "name": "ipython",
    "version": 3
   },
   "file_extension": ".py",
   "mimetype": "text/x-python",
   "name": "python",
   "nbconvert_exporter": "python",
   "pygments_lexer": "ipython3",
   "version": "3.6.5"
  }
 },
 "nbformat": 4,
 "nbformat_minor": 2
}
