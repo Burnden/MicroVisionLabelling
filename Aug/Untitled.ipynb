{
 "cells": [
  {
   "cell_type": "code",
   "execution_count": 1,
   "metadata": {},
   "outputs": [],
   "source": [
    "items_price = [51, 51, 70, 135, 75]"
   ]
  },
  {
   "cell_type": "code",
   "execution_count": 2,
   "metadata": {},
   "outputs": [],
   "source": [
    "import itertools as it"
   ]
  },
  {
   "cell_type": "code",
   "execution_count": 3,
   "metadata": {},
   "outputs": [
    {
     "name": "stdout",
     "output_type": "stream",
     "text": [
      "Buy [51], save 10, the rest are [51, 70, 135, 75]\n",
      "Buy [70], save 20, the rest are [51, 51, 135, 75]\n",
      "Buy [135], save 40, the rest are [51, 51, 70, 75]\n",
      "Buy [51, 135], save 50, the rest are [51, 70, 75]\n",
      "Buy [70, 135], save 60, the rest are [51, 51, 75]\n",
      "Buy [51, 51, 135], save 70, the rest are [70, 75]\n",
      "Buy [70, 135, 75], save 80, the rest are [51, 51]\n"
     ]
    }
   ],
   "source": [
    "items_count = len(items_price)\n",
    "max_saved = 0;\n",
    "for take_number in range(items_count):\n",
    "    taken_combinations = it.combinations(list(range(items_count)), take_number)\n",
    "    for taken in taken_combinations:\n",
    "        items_taken = [items_price[i] for i in taken]\n",
    "        points_back = sum(list(items_taken)) * 300\n",
    "        money_back = points_back//10000 * 10\n",
    "        other_items = [items_price[x] for x in list(range(items_count)) if x not in taken]\n",
    "        price_other_items = sum(other_items)\n",
    "        if money_back <= price_other_items:\n",
    "            saved = money_back\n",
    "        else:\n",
    "            saved = price_other_items\n",
    "        \n",
    "        if max_saved < saved:\n",
    "            max_saved = saved\n",
    "            print(\"Buy {}, save {}, the rest are {}\".format(items_taken, saved, other_items))"
   ]
  },
  {
   "cell_type": "code",
   "execution_count": 4,
   "metadata": {},
   "outputs": [
    {
     "data": {
      "text/plain": [
       "605"
      ]
     },
     "execution_count": 4,
     "metadata": {},
     "output_type": "execute_result"
    }
   ],
   "source": [
    "sum([135, 75, 115, 70, 135, 75])"
   ]
  },
  {
   "cell_type": "code",
   "execution_count": 5,
   "metadata": {},
   "outputs": [
    {
     "data": {
      "text/plain": [
       "(115, 70)"
      ]
     },
     "execution_count": 5,
     "metadata": {},
     "output_type": "execute_result"
    }
   ],
   "source": [
    "115, 70"
   ]
  },
  {
   "cell_type": "code",
   "execution_count": null,
   "metadata": {},
   "outputs": [],
   "source": []
  }
 ],
 "metadata": {
  "kernelspec": {
   "display_name": "Python 3",
   "language": "python",
   "name": "python3"
  },
  "language_info": {
   "codemirror_mode": {
    "name": "ipython",
    "version": 3
   },
   "file_extension": ".py",
   "mimetype": "text/x-python",
   "name": "python",
   "nbconvert_exporter": "python",
   "pygments_lexer": "ipython3",
   "version": "3.6.5"
  }
 },
 "nbformat": 4,
 "nbformat_minor": 2
}
